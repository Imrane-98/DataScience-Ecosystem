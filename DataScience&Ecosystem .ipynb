{
 "cells": [
  {
   "cell_type": "markdown",
   "id": "11f911d7",
   "metadata": {},
   "source": [
    "# DataScience&Ecosystem\n"
   ]
  },
  {
   "cell_type": "markdown",
   "id": "c212fb27",
   "metadata": {},
   "source": [
    "## Introduction\n",
    "This notebook covers various aspects of data science, including languages, libraries, and tools.\n"
   ]
  },
  {
   "cell_type": "markdown",
   "id": "db49d1a0",
   "metadata": {},
   "source": [
    "## Data Science Languages\n",
    "- Python\n",
    "- R\n",
    "- SQL\n",
    "- Julia\n"
   ]
  },
  {
   "cell_type": "markdown",
   "id": "e81b87b5",
   "metadata": {},
   "source": [
    "## Data Science Libraries\n",
    "- Pandas\n",
    "- NumPy\n",
    "- Matplotlib\n",
    "- Scikit-learn\n"
   ]
  },
  {
   "cell_type": "markdown",
   "id": "468af193",
   "metadata": {},
   "source": []
  },
  {
   "cell_type": "markdown",
   "id": "54d07578",
   "metadata": {},
   "source": [
    "## Data Science Tools\n",
    "\n",
    "| Tool        | Description                           |\n",
    "|-------------|---------------------------------------|\n",
    "| Jupyter     | An open-source web application for notebooks |\n",
    "| GitHub       | A platform for version control and collaboration |\n",
    "| RStudio      | An IDE for R language                    |\n",
    "| Anaconda     | A distribution for Python and R, including many libraries |\n"
   ]
  },
  {
   "cell_type": "markdown",
   "id": "0d5bcb99",
   "metadata": {},
   "source": [
    "## Arithmetic Expression Examples\n",
    "Below are examples of arithmetic expressions you can perform:\n",
    "- Addition\n",
    "- Subtraction\n",
    "- Multiplication\n",
    "- Division\n"
   ]
  },
  {
   "cell_type": "code",
   "execution_count": 4,
   "id": "0e854fe7",
   "metadata": {},
   "outputs": [
    {
     "data": {
      "text/plain": [
       "65"
      ]
     },
     "execution_count": 4,
     "metadata": {},
     "output_type": "execute_result"
    }
   ],
   "source": [
    "# Multiply and Add Numbers\n",
    "a = 5\n",
    "b = 10\n",
    "result = (a * b) + (a + b)\n",
    "result\n"
   ]
  },
  {
   "cell_type": "code",
   "execution_count": 3,
   "id": "c649060a",
   "metadata": {},
   "outputs": [
    {
     "data": {
      "text/plain": [
       "2.0"
      ]
     },
     "execution_count": 3,
     "metadata": {},
     "output_type": "execute_result"
    }
   ],
   "source": [
    "# Convert Minutes to Hours\n",
    "def minutes_to_hours(minutes):\n",
    "    return minutes / 60\n",
    "\n",
    "minutes = 120\n",
    "hours = minutes_to_hours(minutes)\n",
    "hours\n"
   ]
  },
  {
   "cell_type": "markdown",
   "id": "958d24f1",
   "metadata": {},
   "source": [
    "## Objectives\n",
    "- Understand how to use Markdown in Jupyter notebooks.\n",
    "- Learn how to perform basic arithmetic operations in Python.\n",
    "- Convert time units and display results.\n"
   ]
  },
  {
   "cell_type": "markdown",
   "id": "02f20d67",
   "metadata": {},
   "source": [
    "## Author\n",
    "This notebook was created by Imrane Benhaddouche.\n"
   ]
  },
  {
   "cell_type": "code",
   "execution_count": null,
   "id": "1051b25c",
   "metadata": {},
   "outputs": [],
   "source": []
  }
 ],
 "metadata": {
  "kernelspec": {
   "display_name": "Python 3 (ipykernel)",
   "language": "python",
   "name": "python3"
  },
  "language_info": {
   "codemirror_mode": {
    "name": "ipython",
    "version": 3
   },
   "file_extension": ".py",
   "mimetype": "text/x-python",
   "name": "python",
   "nbconvert_exporter": "python",
   "pygments_lexer": "ipython3",
   "version": "3.11.5"
  }
 },
 "nbformat": 4,
 "nbformat_minor": 5
}
